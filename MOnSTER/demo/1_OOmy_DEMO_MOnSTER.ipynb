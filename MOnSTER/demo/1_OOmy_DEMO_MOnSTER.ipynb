{
 "cells": [
  {
   "cell_type": "code",
   "execution_count": null,
   "id": "34d72c0b",
   "metadata": {},
   "outputs": [],
   "source": [
    "from monster.import_data import *\n",
    "from monster.features_extraction import *\n",
    "from monster.scaling_and_clustering import *\n",
    "from monster.scoring import *\n",
    "from monster.export_output import *\n",
    "\n",
    "%load_ext autoreload\n",
    "%autoreload 2"
   ]
  },
  {
   "cell_type": "raw",
   "id": "cecbdea3",
   "metadata": {},
   "source": [
    "   MOnSTER is a pipeline to find CLUMPs (CLUster of Motifs of Proteins)\n",
    "   that are discriminative between two datasets of sequences\n",
    "   that will be called positive and negative.\n",
    "\n",
    "   The CLUMPs are found by gathering together motifs that show\n",
    "   similar physicochemical properties.\n",
    "   These physicochemical properties can show different ranges of\n",
    "   values, for this reason, we propose known 3 methods of scaling\n",
    "   the data for this step.\n",
    "\n",
    "   After clustering, the user will visualize the resulting dendogram.\n",
    "   To find the best compromise between number of CLUMPs and having\n",
    "   sufficiently different CLUMPs, MOnSTER employes the Davies Bouldin score.\n",
    "   It is then up to the user to choose number of intervals\n",
    "   of distances to find the best cut of the tree to obtain the most\n",
    "   reasonable number of CLUMPs.\n",
    "   (see doc for more information)\n",
    "\n",
    "   To determine which are the most discriminative CLUMPs, MOnSTER\n",
    "   calculates the MOnSTER score for each of them. The score\n",
    "   is between 0 and 2 and takes into account: the physicochemical\n",
    "   properties of the CLUMPs and the two datasets, and the occurrences\n",
    "   of the motifs and the CLUMPs in the two datasets.\n",
    "   The physicochemical properties that are employed for the MOnSTER_score\n",
    "   are those that show a statistically significant difference\n",
    "   in the two datasets.\n",
    "\n",
    "   MOnSTER scores the CLUMPs the highest if they show values of these\n",
    "   physicochemical properties that are in line with the positive\n",
    "   dataset and if they are more present in the positive dataset\n",
    "   compared to the negative one."
   ]
  },
  {
   "cell_type": "markdown",
   "id": "e6449984",
   "metadata": {},
   "source": [
    "# Create output directory"
   ]
  },
  {
   "cell_type": "code",
   "execution_count": null,
   "id": "b64a5709",
   "metadata": {},
   "outputs": [],
   "source": [
    "## Create output director\n",
    "feature_calculation_and_scaling_results, clustering_and_CLUMPs, MOnSTER_score_path, MOnSTER_analysis = create_output_directory_MOnSTER(\n",
    "'MOnSTER_res_Oomycetes/')"
   ]
  },
  {
   "cell_type": "markdown",
   "id": "ac36f56b",
   "metadata": {},
   "source": [
    "# Data"
   ]
  },
  {
   "cell_type": "code",
   "execution_count": null,
   "id": "d7205821",
   "metadata": {},
   "outputs": [],
   "source": [
    "seqs_path_pos = '../data/datasets/Oomycetes_effectors_supp_table_1.1.fasta'\n",
    "seqs_path_neg = '../data/datasets/Oomycetes_effectors_supp_table_1.2.fasta'\n",
    "motifs_path = '../data/OOmy_ALL_motifs.txt'\n",
    "\n",
    "## Import data\n",
    "pos_dict = import_fasta_sequences_as_dict(seqs_path_pos)\n",
    "neg_dict = import_fasta_sequences_as_dict(seqs_path_neg)\n",
    "lst_motifs = import_list_motifs(motifs_path)\n",
    "print(len(lst_motifs))"
   ]
  },
  {
   "cell_type": "markdown",
   "id": "eafaf406",
   "metadata": {},
   "source": [
    "# Features calculation"
   ]
  },
  {
   "cell_type": "code",
   "execution_count": null,
   "id": "84553260",
   "metadata": {},
   "outputs": [],
   "source": [
    "## Convert list of motifs to dictionary\n",
    "dict_motifs = from_lst_to_dict(lst_motifs)\n",
    "\n",
    "## The function \n",
    "df_motifs_features = feature_calculation(dict_motifs)\n",
    "pos_dset_feat = feature_calculation(pos_dict)\n",
    "pos_dset_feat['id'] = list(pos_dict.keys())\n",
    "neg_dset_feat = feature_calculation(neg_dict)\n",
    "neg_dset_feat['id'] = list(neg_dict.keys())\n",
    "print(len(neg_dset_feat))"
   ]
  },
  {
   "cell_type": "code",
   "execution_count": null,
   "id": "9d2c83e3",
   "metadata": {
    "scrolled": false
   },
   "outputs": [],
   "source": [
    "# storing results into folder feature_calculation_and_scaling_results\n",
    "save_df_to_directory(df_motifs_features, 'df_motifs_features', feature_calculation_and_scaling_results)\n",
    "save_df_to_directory(pos_dset_feat, 'pos_dset_feat', feature_calculation_and_scaling_results)\n",
    "save_df_to_directory(neg_dset_feat, 'neg_dset_feat', feature_calculation_and_scaling_results)"
   ]
  },
  {
   "cell_type": "markdown",
   "id": "7fecd2e1",
   "metadata": {},
   "source": [
    "## Data scaling"
   ]
  },
  {
   "cell_type": "code",
   "execution_count": null,
   "id": "5182cc7e",
   "metadata": {},
   "outputs": [],
   "source": [
    "## Standard scaling (0)\n",
    "## The funcion \n",
    "df_motifs_scl = features_data_scaling(df_motifs_features, 0)\n"
   ]
  },
  {
   "cell_type": "code",
   "execution_count": null,
   "id": "2ecee460",
   "metadata": {},
   "outputs": [],
   "source": [
    "# storing results into folder feature_calculation_and_scaling_results\n",
    "save_df_to_directory(df_motifs_scl, 'df_motifs_scl', feature_calculation_and_scaling_results)\n",
    "df_motifs_scl"
   ]
  },
  {
   "cell_type": "markdown",
   "id": "147a9ed5",
   "metadata": {},
   "source": [
    "# Clustering\n",
    "The Davies-Bouldin score try to get an evaluation of the goodness of clustering by finding a value that minimizes the distances within the points of a cluster and maximizes the distances between the clusters. For this reason choosing the first minimum of the n tries (the choosen number below) is the best treshold for dividing the clusters. Even if the global minimum is the best, in our cases the global minimum would allow too much noise to the clustering ending with tool less clusters with too many motifs in them, so choosing the first local minimum is the best choice for the scope of MOnSTER "
   ]
  },
  {
   "cell_type": "code",
   "execution_count": null,
   "id": "0a792dc8",
   "metadata": {
    "scrolled": true
   },
   "outputs": [],
   "source": [
    "### clustering\n",
    "#\n",
    "link_matrix, best_distance, dict_davies_bouldin_results, df_motifs_CLUMPs, dendogram, newick_tree = motif_clustering(\n",
    "clustering_and_CLUMPs, df_motifs_scl, 6)  # the number is not the distance at which to cut, is the number of \n",
    "                                          # distances to try in order to find the best cut accordingly to D-B score\n",
    "print(best_distance)\n",
    "print(dict_davies_bouldin_results)\n"
   ]
  },
  {
   "cell_type": "markdown",
   "id": "3c3260f1",
   "metadata": {},
   "source": [
    "\n",
    "\n",
    "\n",
    "\n",
    "###### dict_davies_bouldin_results"
   ]
  },
  {
   "cell_type": "code",
   "execution_count": null,
   "id": "db2a9bee",
   "metadata": {},
   "outputs": [],
   "source": [
    "df_motifs_CLUMPs"
   ]
  },
  {
   "cell_type": "code",
   "execution_count": null,
   "id": "5c2d4043",
   "metadata": {
    "scrolled": false
   },
   "outputs": [],
   "source": [
    "# storing results into folder clustering_and_CLUMPs\n",
    "save_df_to_directory(df_motifs_CLUMPs, 'df_motifs_CLUMPs', clustering_and_CLUMPs) # a df for all the CLUMPs\n",
    "save_lsts_motifs(df_motifs_CLUMPs, clustering_and_CLUMPs) # a df per CLUMP"
   ]
  },
  {
   "cell_type": "code",
   "execution_count": null,
   "id": "8a5d48bc",
   "metadata": {},
   "outputs": [],
   "source": [
    "# if results are already stored\n",
    "df_motifs_CLUMPs = pd.read_csv(f\"{clustering_and_CLUMPs}/df_motifs_CLUMPs.tsv\", sep=\",\", index_col=0)\n",
    "df_motifs_CLUMPs"
   ]
  },
  {
   "cell_type": "markdown",
   "id": "b88c257a",
   "metadata": {},
   "source": [
    "# Scoring"
   ]
  },
  {
   "cell_type": "code",
   "execution_count": null,
   "id": "8fa1f7a5",
   "metadata": {},
   "outputs": [],
   "source": [
    "## format data\n",
    "df_all_motifs_all_features, pos_dset_feat, neg_dset_feat = format_input_data(df_motifs_features, df_motifs_CLUMPs,\n",
    "    pos_dset_feat, neg_dset_feat)\n",
    "print(len(pos_dset_feat))"
   ]
  },
  {
   "cell_type": "code",
   "execution_count": null,
   "id": "879d5ebc",
   "metadata": {},
   "outputs": [],
   "source": [
    "## find occurrences of NON REDUNDANT motifs\n",
    "## ORIGINAL_scoring.py\n",
    "df_general, df_start_end_position_pos, df_start_end_position_neg = find_occurrences_of_mots_in_datasets(\n",
    "    df_motifs_CLUMPs, pos_dict, neg_dict)\n",
    "lst_motifs_mask, motifs_counts, df_cnt_seq_per_cluster = find_occ_and_nb_seqs(df_motifs_CLUMPs, df_general)\n",
    "\n",
    "print(len(np.unique(list(df_start_end_position_pos.seq_id))))\n",
    "print(len(lst_motifs_mask))"
   ]
  },
  {
   "cell_type": "code",
   "execution_count": null,
   "id": "6c712bb1",
   "metadata": {},
   "outputs": [],
   "source": [
    "df_start_end_position_pos[[\"CLUMP\", \"seq_id\"]].value_counts()\n",
    "print(len(np.unique(list(df_start_end_position_pos[\"seq_id\"]))))\n",
    "save_df_to_directory(df_start_end_position_pos[[\"CLUMP\", \"seq_id\"]].value_counts(), 'df_CLUMPs_in_eff', clustering_and_CLUMPs)\n",
    "save_df_to_directory(df_start_end_position_neg[[\"CLUMP\", \"seq_id\"]].value_counts(), \"df_CLUMPs_in_non_eff\", clustering_and_CLUMPs)"
   ]
  },
  {
   "cell_type": "code",
   "execution_count": null,
   "id": "67e17f05",
   "metadata": {
    "scrolled": true
   },
   "outputs": [],
   "source": [
    "# storing results into folder MOnSTER_score\n",
    "save_df_to_directory(df_start_end_position_pos, 'df_start_end_position_pos', MOnSTER_analysis)\n",
    "save_df_to_directory(df_start_end_position_neg, 'df_start_end_position_neg', MOnSTER_analysis)\n",
    "df_start_end_position_neg"
   ]
  },
  {
   "cell_type": "code",
   "execution_count": null,
   "id": "325fcb13",
   "metadata": {},
   "outputs": [],
   "source": [
    "# storing results into folder MOnSTER_score\n",
    "MOnSTER_score_results, df_sign_features_p_values = MOnSTER_score(\n",
    "    pos_dset_feat, neg_dset_feat, motifs_counts, df_cnt_seq_per_cluster,\n",
    "    df_motifs_CLUMPs, df_all_motifs_all_features)\n",
    "MOnSTER_score_results"
   ]
  },
  {
   "cell_type": "code",
   "execution_count": null,
   "id": "f7c54d83",
   "metadata": {},
   "outputs": [],
   "source": [
    "df_sign_features_p_values"
   ]
  },
  {
   "cell_type": "code",
   "execution_count": null,
   "id": "e7942f10",
   "metadata": {},
   "outputs": [],
   "source": [
    "# storing results into folder MOnSTER_score\n",
    "save_df_to_directory(df_sign_features_p_values, 'df_sign_features_p_values', MOnSTER_score_path)"
   ]
  },
  {
   "cell_type": "code",
   "execution_count": null,
   "id": "f149149d",
   "metadata": {},
   "outputs": [],
   "source": [
    "# summary of results\n",
    "df_summary_results_monster = final_results_table(MOnSTER_score_results, df_motifs_CLUMPs, df_cnt_seq_per_cluster)\n",
    "save_df_to_directory(df_summary_results_monster, 'df_summary_results_monster', MOnSTER_score_path)"
   ]
  },
  {
   "cell_type": "code",
   "execution_count": null,
   "id": "6c8009a7",
   "metadata": {
    "scrolled": false
   },
   "outputs": [],
   "source": [
    "df_summary_results_monster"
   ]
  }
 ],
 "metadata": {
  "kernelspec": {
   "display_name": "Python 3 (ipykernel)",
   "language": "python",
   "name": "python3"
  },
  "language_info": {
   "codemirror_mode": {
    "name": "ipython",
    "version": 3
   },
   "file_extension": ".py",
   "mimetype": "text/x-python",
   "name": "python",
   "nbconvert_exporter": "python",
   "pygments_lexer": "ipython3",
   "version": "3.8.10"
  },
  "toc": {
   "base_numbering": 1,
   "nav_menu": {},
   "number_sections": true,
   "sideBar": true,
   "skip_h1_title": false,
   "title_cell": "Table of Contents",
   "title_sidebar": "Contents",
   "toc_cell": false,
   "toc_position": {},
   "toc_section_display": true,
   "toc_window_display": false
  }
 },
 "nbformat": 4,
 "nbformat_minor": 5
}
